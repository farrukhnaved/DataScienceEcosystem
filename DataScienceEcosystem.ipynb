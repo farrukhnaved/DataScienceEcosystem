{
 "cells": [
  {
   "cell_type": "markdown",
   "id": "43cbc4d7",
   "metadata": {},
   "source": [
    "# Data Science Tools and Ecosystem"
   ]
  },
  {
   "cell_type": "markdown",
   "id": "236bc5a5",
   "metadata": {},
   "source": [
    "# In this notebook, we will summarize and explore various tools and concepts in the data science ecosystem. This includes programming languages, libraries, and development environment tools that are essential for data science work."
   ]
  },
  {
   "cell_type": "markdown",
   "id": "38f0f444",
   "metadata": {},
   "source": [
    "**Objectives:**\n",
    "\n",
    "- List popular languages for Data Science\n",
    "- Identify commonly used libraries for Data Science in Python and R\n",
    "- Introduce essential data science tools and environments\n",
    "- Demonstrate basic arithmetic operations in Python\n",
    "- Convert units (e.g., minutes to hours) using Python expressions"
   ]
  },
  {
   "cell_type": "markdown",
   "id": "0fe71abf",
   "metadata": {},
   "source": [
    "## Author\n",
    "\n",
    "Farrukh Naveed"
   ]
  },
  {
   "cell_type": "markdown",
   "id": "78331d9e",
   "metadata": {},
   "source": [
    "# Some of the popular languages that Data Scientists use are:\n",
    "1. Python\n",
    "2. R\n",
    "3. SQL\n",
    "4. Java\n",
    "5. C++\n",
    "6. Julia"
   ]
  },
  {
   "cell_type": "markdown",
   "id": "850eb27d",
   "metadata": {},
   "source": [
    "# Some of the commonly used libraries used by Data Scientists include:\n",
    "# Python libraries:\n",
    "1. Pandas\n",
    "2. NumPy   \n",
    "3. Matplotlib\n",
    "4. Scikit-learn\n",
    "5. TensorFlow\n",
    "6. PyTorch\n",
    "7. Keras\n",
    "8. Seaborn\n",
    "# R libraries:\n",
    "1. ggplot2\n",
    "2. dplyr\n",
    "3. tidyr\n",
    "4. caret\n",
    "5. shiny\n",
    "6. lubridate"
   ]
  },
  {
   "cell_type": "markdown",
   "id": "fa615173",
   "metadata": {},
   "source": [
    "| Data Science Tools      |\n",
    "|------------------------|\n",
    "| Jupyter Notebook       |\n",
    "| RStudio                |\n",
    "| Apache Zeppelin        |"
   ]
  },
  {
   "cell_type": "code",
   "execution_count": null,
   "id": "d9baaa05",
   "metadata": {
    "vscode": {
     "languageId": "markdown"
    }
   },
   "outputs": [],
   "source": [
    "```python\n",
    "# This is a simple arithmetic expression to multiply then add integers\n",
    "(3 * 4) + 5\n",
    "```"
   ]
  },
  {
   "cell_type": "markdown",
   "id": "bf387036",
   "metadata": {},
   "source": [
    "# Below are a few examples of evaluating arithmetic expressions in Python:\n",
    "\n",
    "- **Addition:** 5 + 3 = 8  \n",
    "- **Subtraction:** 10 - 4 = 6  \n",
    "- **Multiplication:** 7 × 6 = 42  \n",
    "- **Division:** 15 ÷ 3 = 5  \n",
    "- **Exponentiation:** 2³ = 8  "
   ]
  },
  {
   "cell_type": "code",
   "execution_count": 1,
   "id": "e2b95373",
   "metadata": {
    "vscode": {
     "languageId": "markdown"
    }
   },
   "outputs": [
    {
     "data": {
      "text/plain": [
       "17"
      ]
     },
     "execution_count": 1,
     "metadata": {},
     "output_type": "execute_result"
    }
   ],
   "source": [
    "# This is a simple arithmetic expression to multiply then add integers\n",
    "(3 * 4) + 5\n"
   ]
  },
  {
   "cell_type": "code",
   "execution_count": 2,
   "id": "f40f1545",
   "metadata": {
    "vscode": {
     "languageId": "markdown"
    }
   },
   "outputs": [
    {
     "data": {
      "text/plain": [
       "3.3333333333333335"
      ]
     },
     "execution_count": 2,
     "metadata": {},
     "output_type": "execute_result"
    }
   ],
   "source": [
    "\n",
    "# This will convert 200 minutes to hours by dividing by 60\n",
    "200 / 60\n"
   ]
  },
  {
   "cell_type": "code",
   "execution_count": null,
   "id": "2af79057",
   "metadata": {
    "vscode": {
     "languageId": "markdown"
    }
   },
   "outputs": [],
   "source": [
    "**Objectives:**\n",
    "\n",
    "- List popular languages for Data Science\n",
    "- Identify commonly used libraries for Data Science in Python and R\n",
    "- Introduce essential data science tools and environments\n",
    "- Demonstrate basic arithmetic operations in Python\n",
    "- Convert units (e.g., minutes to hours) using Python expressions"
   ]
  },
  {
   "cell_type": "code",
   "execution_count": null,
   "id": "487bc16d",
   "metadata": {},
   "outputs": [],
   "source": []
  }
 ],
 "metadata": {
  "kernelspec": {
   "display_name": "python_eda",
   "language": "python",
   "name": "python3"
  },
  "language_info": {
   "codemirror_mode": {
    "name": "ipython",
    "version": 3
   },
   "file_extension": ".py",
   "mimetype": "text/x-python",
   "name": "python",
   "nbconvert_exporter": "python",
   "pygments_lexer": "ipython3",
   "version": "3.12.0"
  }
 },
 "nbformat": 4,
 "nbformat_minor": 5
}
